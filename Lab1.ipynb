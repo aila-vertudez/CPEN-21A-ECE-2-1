{
  "nbformat": 4,
  "nbformat_minor": 0,
  "metadata": {
    "colab": {
      "name": "Lab1.ipynb",
      "provenance": [],
      "authorship_tag": "ABX9TyPLJpOkuzDNP21l5JH/usO2",
      "include_colab_link": true
    },
    "kernelspec": {
      "name": "python3",
      "display_name": "Python 3"
    },
    "language_info": {
      "name": "python"
    }
  },
  "cells": [
    {
      "cell_type": "markdown",
      "metadata": {
        "id": "view-in-github",
        "colab_type": "text"
      },
      "source": [
        "<a href=\"https://colab.research.google.com/github/aila-vertudez/CPEN-21A-ECE-2-1/blob/main/Lab1.ipynb\" target=\"_parent\"><img src=\"https://colab.research.google.com/assets/colab-badge.svg\" alt=\"Open In Colab\"/></a>"
      ]
    },
    {
      "cell_type": "markdown",
      "metadata": {
        "id": "6d3gCwODoueN"
      },
      "source": [
        "#**Laboratory 1**"
      ]
    },
    {
      "cell_type": "markdown",
      "metadata": {
        "id": "is2FDbabrM4R"
      },
      "source": [
        "####Python Program that Displays “Welcome to Python Programming”"
      ]
    },
    {
      "cell_type": "code",
      "metadata": {
        "colab": {
          "base_uri": "https://localhost:8080/"
        },
        "id": "JDr_IRZ4pEIu",
        "outputId": "69d5ebe7-688e-4e11-9290-8eb5dd606cc2"
      },
      "source": [
        "x=\"Welcome to Python Programming\"\n",
        "print(x)"
      ],
      "execution_count": 1,
      "outputs": [
        {
          "output_type": "stream",
          "name": "stdout",
          "text": [
            "Welcome to Python Programming\n"
          ]
        }
      ]
    },
    {
      "cell_type": "markdown",
      "metadata": {
        "id": "p8Mt-KZ-reZP"
      },
      "source": [
        "####Python Program that allows you to output your name, address, and age to an appropriate structure."
      ]
    },
    {
      "cell_type": "code",
      "metadata": {
        "colab": {
          "base_uri": "https://localhost:8080/"
        },
        "id": "UqmIGaS2rox1",
        "outputId": "f4438ba4-4440-4e2a-ba33-635dead1b4c1"
      },
      "source": [
        "NAME,AGE=\"Aila Jamila L. Vertudez\",19\n",
        "ADDRESS=\"550 C. Bayani St., Brgy 10, Amadeo, Cavite\"\n",
        "print(\"Name: {}\".format(NAME))\n",
        "print(\"Age: {} years old\".format(AGE))\n",
        "print(\"Address: {}\".format(ADDRESS))"
      ],
      "execution_count": 17,
      "outputs": [
        {
          "output_type": "stream",
          "name": "stdout",
          "text": [
            "Name: Aila Jamila L. Vertudez\n",
            "Age: 19 years old\n",
            "Address: 550 C. Bayani St., Brgy 10, Amadeo, Cavite\n"
          ]
        }
      ]
    }
  ]
}