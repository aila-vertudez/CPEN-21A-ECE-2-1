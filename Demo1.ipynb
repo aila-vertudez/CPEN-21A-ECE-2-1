{
  "nbformat": 4,
  "nbformat_minor": 0,
  "metadata": {
    "colab": {
      "name": "Demo1.ipynb",
      "provenance": [],
      "collapsed_sections": [],
      "authorship_tag": "ABX9TyP9N4TddLU5NMD5w5zwjSYp",
      "include_colab_link": true
    },
    "kernelspec": {
      "name": "python3",
      "display_name": "Python 3"
    },
    "language_info": {
      "name": "python"
    }
  },
  "cells": [
    {
      "cell_type": "markdown",
      "metadata": {
        "id": "view-in-github",
        "colab_type": "text"
      },
      "source": [
        "<a href=\"https://colab.research.google.com/github/aila-vertudez/CPEN-21A-ECE-2-1/blob/main/Demo1.ipynb\" target=\"_parent\"><img src=\"https://colab.research.google.com/assets/colab-badge.svg\" alt=\"Open In Colab\"/></a>"
      ]
    },
    {
      "cell_type": "markdown",
      "metadata": {
        "id": "JpaM_-Csrc5T"
      },
      "source": [
        "###Intro to Python Programming"
      ]
    },
    {
      "cell_type": "code",
      "metadata": {
        "colab": {
          "base_uri": "https://localhost:8080/"
        },
        "id": "txpzGtROr1I1",
        "outputId": "c5d2aa2f-1286-4f04-a37e-a95edd64ad57"
      },
      "source": [
        "#Phyton Indention\n",
        "if 5>2:\n",
        "  print(\"Five is greater than two\")"
      ],
      "execution_count": 1,
      "outputs": [
        {
          "output_type": "stream",
          "name": "stdout",
          "text": [
            "Five is greater than two\n"
          ]
        }
      ]
    },
    {
      "cell_type": "markdown",
      "metadata": {
        "id": "RQQDioPqtqMR"
      },
      "source": [
        "##Python Variable"
      ]
    },
    {
      "cell_type": "code",
      "metadata": {
        "colab": {
          "base_uri": "https://localhost:8080/"
        },
        "id": "AEMYAvCBt6FQ",
        "outputId": "a04323e7-24c4-45eb-b31b-5072de90de2f"
      },
      "source": [
        "x=1\n",
        "a,b=0,1\n",
        "a,b,c=\"zero\",\"one\",\"two\"\n",
        "print(x)\n",
        "print(a)\n",
        "print(b)\n",
        "print(c)"
      ],
      "execution_count": 12,
      "outputs": [
        {
          "output_type": "stream",
          "name": "stdout",
          "text": [
            "1\n",
            "zero\n",
            "one\n",
            "two\n"
          ]
        }
      ]
    },
    {
      "cell_type": "code",
      "metadata": {
        "colab": {
          "base_uri": "https://localhost:8080/"
        },
        "id": "QyOo1xMKucul",
        "outputId": "ec85dc17-c63d-4953-afd2-360972df269a"
      },
      "source": [
        "d=\"Sally\" #This is a string\n",
        "D=\"Ana\"\n",
        "print(d)\n",
        "e=\"John\"\n",
        "print(e)\n",
        "print(D)"
      ],
      "execution_count": 10,
      "outputs": [
        {
          "output_type": "stream",
          "name": "stdout",
          "text": [
            "Sally\n",
            "John\n",
            "Ana\n"
          ]
        }
      ]
    },
    {
      "cell_type": "code",
      "metadata": {
        "colab": {
          "base_uri": "https://localhost:8080/"
        },
        "id": "1OyLjtHnvFfe",
        "outputId": "a8f87bea-a83e-44ff-ce32-202b0f911e21"
      },
      "source": [
        "print(type(d))\n",
        "print(type(x))"
      ],
      "execution_count": 11,
      "outputs": [
        {
          "output_type": "stream",
          "name": "stdout",
          "text": [
            "<class 'str'>\n",
            "<class 'int'>\n"
          ]
        }
      ]
    },
    {
      "cell_type": "markdown",
      "metadata": {
        "id": "TX9WBeweusxp"
      },
      "source": [
        "##Casting"
      ]
    },
    {
      "cell_type": "code",
      "metadata": {
        "colab": {
          "base_uri": "https://localhost:8080/"
        },
        "id": "fSLeTOvBuvvL",
        "outputId": "d96ffad4-7d63-49f8-a59c-22f74ad5c93a"
      },
      "source": [
        "f=float(4)\n",
        "print(f)\n",
        "g=int(5)\n",
        "print(g)"
      ],
      "execution_count": 7,
      "outputs": [
        {
          "output_type": "stream",
          "name": "stdout",
          "text": [
            "4.0\n",
            "5\n"
          ]
        }
      ]
    },
    {
      "cell_type": "markdown",
      "metadata": {
        "id": "qEMwlSEGwKKB"
      },
      "source": [
        "##Multiple Variables with One Value"
      ]
    },
    {
      "cell_type": "code",
      "metadata": {
        "colab": {
          "base_uri": "https://localhost:8080/"
        },
        "id": "VQo4HbB4wPB9",
        "outputId": "002b4b5b-bafb-47c0-f6a5-fcd15b7b3080"
      },
      "source": [
        "x=y=z=\"four\"\n",
        "print(x)\n",
        "print(y)\n",
        "print(z)"
      ],
      "execution_count": 13,
      "outputs": [
        {
          "output_type": "stream",
          "name": "stdout",
          "text": [
            "four\n",
            "four\n",
            "four\n"
          ]
        }
      ]
    },
    {
      "cell_type": "code",
      "metadata": {
        "colab": {
          "base_uri": "https://localhost:8080/"
        },
        "id": "_JXVvhm9wmAz",
        "outputId": "3f699c37-de70-49b3-bad8-56c829de375f"
      },
      "source": [
        "x=\"enjoying\"\n",
        "print(\"Python Programming is\" \" \"+x)"
      ],
      "execution_count": 16,
      "outputs": [
        {
          "output_type": "stream",
          "name": "stdout",
          "text": [
            "Python Programming is enjoying\n"
          ]
        }
      ]
    },
    {
      "cell_type": "markdown",
      "metadata": {
        "id": "QsIZNofaxJXk"
      },
      "source": [
        "#Operations in Python"
      ]
    },
    {
      "cell_type": "code",
      "metadata": {
        "colab": {
          "base_uri": "https://localhost:8080/"
        },
        "id": "Kzzl-WWuxOJW",
        "outputId": "52779239-5103-46df-f767-9b5c5104a4fb"
      },
      "source": [
        "x=5\n",
        "y=7\n",
        "x += y #This is the same as x=x+y\n",
        "print(x)\n",
        "\n"
      ],
      "execution_count": 26,
      "outputs": [
        {
          "output_type": "stream",
          "name": "stdout",
          "text": [
            "12\n"
          ]
        }
      ]
    },
    {
      "cell_type": "code",
      "metadata": {
        "colab": {
          "base_uri": "https://localhost:8080/"
        },
        "id": "FNYOddHlzViA",
        "outputId": "6f5b5693-762d-4207-c613-d4614bfe2e79"
      },
      "source": [
        "x=5\n",
        "y=7\n",
        "\n",
        "not(x>y or y==x)"
      ],
      "execution_count": 32,
      "outputs": [
        {
          "output_type": "execute_result",
          "data": {
            "text/plain": [
              "True"
            ]
          },
          "metadata": {},
          "execution_count": 32
        }
      ]
    },
    {
      "cell_type": "code",
      "metadata": {
        "colab": {
          "base_uri": "https://localhost:8080/"
        },
        "id": "SCI1sOEi0H54",
        "outputId": "442f70c4-9cd7-4cb5-f738-f96df4eb1270"
      },
      "source": [
        "x is y"
      ],
      "execution_count": 33,
      "outputs": [
        {
          "output_type": "execute_result",
          "data": {
            "text/plain": [
              "False"
            ]
          },
          "metadata": {},
          "execution_count": 33
        }
      ]
    },
    {
      "cell_type": "code",
      "metadata": {
        "colab": {
          "base_uri": "https://localhost:8080/"
        },
        "id": "k-jYgfuq0L8-",
        "outputId": "49820b6a-0318-4e84-a600-293dc515d6bf"
      },
      "source": [
        "x is not y"
      ],
      "execution_count": 34,
      "outputs": [
        {
          "output_type": "execute_result",
          "data": {
            "text/plain": [
              "True"
            ]
          },
          "metadata": {},
          "execution_count": 34
        }
      ]
    }
  ]
}