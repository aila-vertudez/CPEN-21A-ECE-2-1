{
  "nbformat": 4,
  "nbformat_minor": 0,
  "metadata": {
    "colab": {
      "name": "Midterm Exam.ipynb",
      "provenance": [],
      "authorship_tag": "ABX9TyPXOzCjqMA9IHh5I10f8+g7",
      "include_colab_link": true
    },
    "kernelspec": {
      "name": "python3",
      "display_name": "Python 3"
    },
    "language_info": {
      "name": "python"
    }
  },
  "cells": [
    {
      "cell_type": "markdown",
      "metadata": {
        "id": "view-in-github",
        "colab_type": "text"
      },
      "source": [
        "<a href=\"https://colab.research.google.com/github/aila-vertudez/CPEN-21A-ECE-2-1/blob/main/Midterm_Exam.ipynb\" target=\"_parent\"><img src=\"https://colab.research.google.com/assets/colab-badge.svg\" alt=\"Open In Colab\"/></a>"
      ]
    },
    {
      "cell_type": "markdown",
      "metadata": {
        "id": "0QM8FZb41f_d"
      },
      "source": [
        "#Midterm Exam"
      ]
    },
    {
      "cell_type": "markdown",
      "metadata": {
        "id": "jB4n67PP1qZN"
      },
      "source": [
        "##Problem Statement 1"
      ]
    },
    {
      "cell_type": "code",
      "metadata": {
        "colab": {
          "base_uri": "https://localhost:8080/"
        },
        "id": "gQla9RCl1m6F",
        "outputId": "5df173a7-877c-4031-959f-1123a0806d72"
      },
      "source": [
        "a=\"Aila Jamila L. Vertudez\"\n",
        "b=202010847\n",
        "c=19\n",
        "d=\"January 27, 2002\"\n",
        "e=\"550 C. Bayani St., Brgy. 10, Amadeo, Cavite\"\n",
        "f=\"BS Electronics Engineering\"\n",
        "g=1.33\n",
        "\n",
        "print(\"Name: {}\\nStudent Number: {}\\nAge: {} years old\\nBirthday: {}\\nAddress: {}\\nCourse: {}\\nLast Sem GWA: {}\".format(a,b,c,d,e,f,g))"
      ],
      "execution_count": 41,
      "outputs": [
        {
          "output_type": "stream",
          "name": "stdout",
          "text": [
            "Name: Aila Jamila L. Vertudez\n",
            "Student Number: 202010847\n",
            "Age: 19 years old\n",
            "Birthday: January 27, 2002\n",
            "Address: 550 C. Bayani St., Brgy. 10, Amadeo, Cavite\n",
            "Course: BS Electronics Engineering\n",
            "Last Sem GWA: 1.33\n"
          ]
        }
      ]
    },
    {
      "cell_type": "markdown",
      "metadata": {
        "id": "CEWHxHuJ5hy9"
      },
      "source": [
        "##Problem Statement 2"
      ]
    },
    {
      "cell_type": "code",
      "metadata": {
        "colab": {
          "base_uri": "https://localhost:8080/"
        },
        "id": "_3xfmM705ka4",
        "outputId": "f9504c38-8d8f-4e4d-923a-1083f5d7d0f0"
      },
      "source": [
        "n=4\n",
        "answ=\"Y\"\n",
        "\n",
        "print((2<n)and(n<6))\n",
        "print((2<n)or(n==6))\n",
        "print(not(2<n)or(n==6))\n",
        "print(not(n<6))\n",
        "print((answ==\"Y\")or(answ==\"y\"))\n",
        "print((answ==\"Y\")and(answ==\"y\"))\n",
        "print(not(answ==\"y\"))\n",
        "print((2<n)and(n==5+1)or(answ==\"No\"))\n",
        "print((n==2)and(n==7)or(answ==\"Y\"))\n",
        "print((n==2)and(n==7)or(answ==\"Y\"))"
      ],
      "execution_count": 31,
      "outputs": [
        {
          "output_type": "stream",
          "name": "stdout",
          "text": [
            "True\n",
            "True\n",
            "False\n",
            "False\n",
            "True\n",
            "False\n",
            "True\n",
            "False\n",
            "True\n",
            "True\n"
          ]
        }
      ]
    },
    {
      "cell_type": "markdown",
      "metadata": {
        "id": "tsnnCo2f7xiu"
      },
      "source": [
        "##Problem Statement 3"
      ]
    },
    {
      "cell_type": "code",
      "metadata": {
        "colab": {
          "base_uri": "https://localhost:8080/"
        },
        "id": "P4U8TIul6W55",
        "outputId": "70149fdb-d57a-4e12-b6f7-804d0012495b"
      },
      "source": [
        "x,y,w,z=2,-3,7,-10\n",
        "\n",
        "print(x/y)\n",
        "print(w/y/x)\n",
        "print(z/y%x)\n",
        "print(x%-y*w)\n",
        "print(x%y)\n",
        "print(z%w-y/x*5+5)\n",
        "print(9-x%(2+y))\n",
        "print(z//w)\n",
        "print((2+y)**2)\n",
        "print(w/x*2)"
      ],
      "execution_count": 40,
      "outputs": [
        {
          "output_type": "stream",
          "name": "stdout",
          "text": [
            "-0.6666666666666666\n",
            "-1.1666666666666667\n",
            "1.3333333333333335\n",
            "14\n",
            "-1\n",
            "16.5\n",
            "9\n",
            "-2\n",
            "1\n",
            "7.0\n"
          ]
        }
      ]
    }
  ]
}